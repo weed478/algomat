{
 "cells": [
  {
   "cell_type": "code",
   "execution_count": 9,
   "id": "6746890c",
   "metadata": {},
   "outputs": [],
   "source": [
    "import numpy as np\n",
    "\n",
    "add_count = 0\n",
    "multiply_count = 0\n",
    "\n",
    "\n",
    "def split(matrix):\n",
    "    row, col = matrix.shape\n",
    "    row2, col2 = row // 2, col // 2\n",
    "    return matrix[:row2, :col2], matrix[:row2, col2:], matrix[row2:, :col2], matrix[row2:, col2:]\n",
    "\n",
    "\n",
    "def strassen(x, y):\n",
    "    global add_count\n",
    "    global multiply_count\n",
    "    if len(x) == 1:\n",
    "        multiply_count += 1\n",
    "        return x * y\n",
    "\n",
    "    a11, a12, a21, a22 = split(x)\n",
    "    b11, b12, b21, b22 = split(y)\n",
    "\n",
    "    #recursive calls\n",
    "    p1 = strassen(a11 + a22, b11 + b22)\n",
    "    add_count += len(a11) * len(a11[0]) + len(b11) * len(b11[0])\n",
    "\n",
    "    p2 = strassen(a21 + a22, b11)\n",
    "    add_count += len(a21) * len(a21[0])\n",
    "\n",
    "    p3 = strassen(a11, b12 - b22)\n",
    "    add_count += len(b12) + len(b12[0])\n",
    "\n",
    "    p4 = strassen(a22, b21 - b11)\n",
    "    add_count += len(b21) * len(b21[0])\n",
    "\n",
    "    p5 = strassen(a11 + a12, b22)\n",
    "    add_count += len(a11) * len(a11[0])\n",
    "\n",
    "    p6 = strassen(a21 - a11, b11 + b12)\n",
    "    add_count += len(b11) * len(b11[0]) + len(a21) * len(a21[0])\n",
    "\n",
    "    p7 = strassen(a12 - a22, b21 + b22)\n",
    "    add_count += len(b21) * len(b21[0]) + len(a12) * len(a12[0])\n",
    "\n",
    "    #add results\n",
    "    c11 = p1 + p4 - p5 + p7\n",
    "    add_count += len(p1) * len(p1[0]) * 3\n",
    "\n",
    "    c12 = p3 + p5\n",
    "    add_count += len(p3) * len(p3[0])\n",
    "    \n",
    "    c21 = p2 + p4\n",
    "    add_count += len(p2) * len(p2[0])\n",
    "    \n",
    "    c22 = p1 - p2 + p3 + p6\n",
    "    add_count += len(p1) * len(p1[0]) * 4\n",
    "\n",
    "    #combine blocks\n",
    "    c = np.vstack((np.hstack((c11, c12)), np.hstack((c21, c22))))\n",
    "\n",
    "    return c"
   ]
  },
  {
   "cell_type": "code",
   "execution_count": 10,
   "id": "44a717c8",
   "metadata": {},
   "outputs": [],
   "source": [
    "from numpy.random import uniform\n",
    "from timeit import timeit\n",
    "\n",
    "def count_operations_and_time(size_x, size_y):\n",
    "    global add_count\n",
    "    global multiply_count\n",
    "    add_count, multiply_count = 0, 0\n",
    "\n",
    "    matrix_a = np.array([uniform(0, 1,size_y) for _ in range(size_x)])\n",
    "    matrix_b = np.array([uniform(0, 1,size_y) for _ in range(size_x)])\n",
    "    strassen_time = timeit(lambda: strassen(matrix_a, matrix_b), number=1)\n",
    "    np_time = timeit(lambda: np.matmul(matrix_a, matrix_b), number=1000) / 1000\n",
    "    print(\"add:\", add_count, \"multiply:\", multiply_count, \"total:\", add_count + multiply_count)\n",
    "    return add_count + multiply_count, strassen_time, np_time"
   ]
  },
  {
   "cell_type": "code",
   "execution_count": 11,
   "id": "e20d1d88",
   "metadata": {},
   "outputs": [
    {
     "name": "stdout",
     "output_type": "stream",
     "text": [
      "add: 216 multiply: 49 total: 265\n",
      "add: 1808 multiply: 343 total: 2151\n",
      "add: 13824 multiply: 2401 total: 16225\n",
      "add: 101408 multiply: 16807 total: 118215\n",
      "add: 728352 multiply: 117649 total: 846001\n",
      "add: 5172320 multiply: 823543 total: 5995863\n",
      "add: 36501408 multiply: 5764801 total: 42266209\n"
     ]
    }
   ],
   "source": [
    "matrix_sizes = [2 ** i for i in range(2, 9)]\n",
    "strassen_times = []\n",
    "np_times = []\n",
    "operations = []\n",
    "\n",
    "for matrix_size in matrix_sizes:\n",
    "    operations_count, strassen_time, np_time = count_operations_and_time(matrix_size, matrix_size)\n",
    "    operations.append(operations_count)\n",
    "    strassen_times.append(strassen_time)\n",
    "    np_times.append(np_time)"
   ]
  },
  {
   "cell_type": "code",
   "execution_count": 12,
   "id": "3bb8bdec",
   "metadata": {},
   "outputs": [
    {
     "data": {
      "image/png": "[encoded data removed]",
      "text/plain": [
       "<Figure size 432x288 with 1 Axes>"
      ]
     },
     "metadata": {
      "needs_background": "light"
     },
     "output_type": "display_data"
    }
   ],
   "source": [
    "import matplotlib.pyplot as plt\n",
    "\n",
    "plt.plot(matrix_sizes, operations)\n",
    "plt.title('Strassen FLOPS')\n",
    "plt.xlabel('n')\n",
    "plt.ylabel('FLOPS')\n",
    "plt.show()"
   ]
  },
  {
   "cell_type": "code",
   "execution_count": 13,
   "id": "4416d13d",
   "metadata": {},
   "outputs": [
    {
     "data": {
      "image/png": "[encoded data removed]",
      "text/plain": [
       "<Figure size 432x288 with 2 Axes>"
      ]
     },
     "metadata": {
      "needs_background": "light"
     },
     "output_type": "display_data"
    }
   ],
   "source": [
    "fig, ax1 = plt.subplots()\n",
    "ax1.set_xlabel('n')\n",
    "ax1.set_ylabel('time (s)')\n",
    "ax1.tick_params(axis='y', labelcolor='red')\n",
    "ax1.plot(matrix_sizes, strassen_times, label='strassen_mul', color='red')\n",
    "\n",
    "ax2 = ax1.twinx()\n",
    "ax2.tick_params(axis='y', labelcolor='blue')\n",
    "ax2.plot(matrix_sizes, np_times, label='np.matmul', color='blue')\n",
    "\n",
    "fig.legend()\n",
    "plt.title('Binet vs np.matmul time')\n",
    "plt.show()"
   ]
  },
  {
   "cell_type": "code",
   "execution_count": 14,
   "id": "e8751005",
   "metadata": {},
   "outputs": [
    {
     "data": {
      "text/html": [
       "<div>\n",
       "<style scoped>\n",
       "    .dataframe tbody tr th:only-of-type {\n",
       "        vertical-align: middle;\n",
       "    }\n",
       "\n",
       "    .dataframe tbody tr th {\n",
       "        vertical-align: top;\n",
       "    }\n",
       "\n",
       "    .dataframe thead th {\n",
       "        text-align: right;\n",
       "    }\n",
       "</style>\n",
       "<table border=\"1\" class=\"dataframe\">\n",
       "  <thead>\n",
       "    <tr style=\"text-align: right;\">\n",
       "      <th></th>\n",
       "      <th>n</th>\n",
       "      <th>time_strassen</th>\n",
       "      <th>time_np</th>\n",
       "      <th>flops_strassen</th>\n",
       "    </tr>\n",
       "  </thead>\n",
       "  <tbody>\n",
       "    <tr>\n",
       "      <th>0</th>\n",
       "      <td>4</td>\n",
       "      <td>0.000272</td>\n",
       "      <td>0.000001</td>\n",
       "      <td>265</td>\n",
       "    </tr>\n",
       "    <tr>\n",
       "      <th>1</th>\n",
       "      <td>8</td>\n",
       "      <td>0.001864</td>\n",
       "      <td>0.000001</td>\n",
       "      <td>2151</td>\n",
       "    </tr>\n",
       "    <tr>\n",
       "      <th>2</th>\n",
       "      <td>16</td>\n",
       "      <td>0.010097</td>\n",
       "      <td>0.000001</td>\n",
       "      <td>16225</td>\n",
       "    </tr>\n",
       "    <tr>\n",
       "      <th>3</th>\n",
       "      <td>32</td>\n",
       "      <td>0.068748</td>\n",
       "      <td>0.000003</td>\n",
       "      <td>118215</td>\n",
       "    </tr>\n",
       "    <tr>\n",
       "      <th>4</th>\n",
       "      <td>64</td>\n",
       "      <td>0.490011</td>\n",
       "      <td>0.000006</td>\n",
       "      <td>846001</td>\n",
       "    </tr>\n",
       "  </tbody>\n",
       "</table>\n",
       "</div>"
      ],
      "text/plain": [
       "    n  time_strassen   time_np  flops_strassen\n",
       "0   4       0.000272  0.000001             265\n",
       "1   8       0.001864  0.000001            2151\n",
       "2  16       0.010097  0.000001           16225\n",
       "3  32       0.068748  0.000003          118215\n",
       "4  64       0.490011  0.000006          846001"
      ]
     },
     "execution_count": 14,
     "metadata": {},
     "output_type": "execute_result"
    }
   ],
   "source": [
    "import pandas as pd\n",
    "df = pd.DataFrame({'n': matrix_sizes, 'time_strassen': strassen_times, 'time_np': np_times, 'flops_strassen': operations})\n",
    "df.to_csv('strassen.csv', index=False)\n",
    "df.head()"
   ]
  }
 ],
 "metadata": {
  "kernelspec": {
   "display_name": "Python 3 (ipykernel)",
   "language": "python",
   "name": "python3"
  },
  "language_info": {
   "codemirror_mode": {
    "name": "ipython",
    "version": 3
   },
   "file_extension": ".py",
   "mimetype": "text/x-python",
   "name": "python",
   "nbconvert_exporter": "python",
   "pygments_lexer": "ipython3",
   "version": "3.9.12"
  }
 },
 "nbformat": 4,
 "nbformat_minor": 5
}
