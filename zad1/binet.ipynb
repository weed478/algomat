{
 "cells": [
  {
   "cell_type": "code",
   "execution_count": 17,
   "metadata": {},
   "outputs": [],
   "source": [
    "FLOPS_ADD = 0\n",
    "FLOPS_MUL = 0\n",
    "\n",
    "def count_flops():\n",
    "    global FLOPS_ADD, FLOPS_MUL\n",
    "    FLOPS_ADD = FLOPS_MUL = 0\n",
    "\n",
    "def get_flops():\n",
    "    return FLOPS_ADD + FLOPS_MUL, FLOPS_ADD, FLOPS_MUL"
   ]
  },
  {
   "cell_type": "code",
   "execution_count": 18,
   "metadata": {},
   "outputs": [],
   "source": [
    "Mat = list[list[float]]\n",
    "\n",
    "def mat_zeros(n: int, m: int) -> Mat:\n",
    "    return [[0.0] * m for _ in range(n)]\n",
    "\n",
    "def mat_rand(n: int, m: int, a: float, b: float) -> Mat:\n",
    "    from random import uniform\n",
    "    return [[uniform(a, b) for _ in range(m)] for _ in range(n)]\n",
    "\n",
    "def mat_slice(a: Mat, i0: int, i1: int, j0: int, j1: int) -> Mat:\n",
    "    return [row[j0:j1] for row in a[i0:i1]]\n",
    "\n",
    "def mat_add(a: Mat, b: Mat) -> Mat:\n",
    "    assert len(a) == len(b)\n",
    "    assert len(a[0]) == len(b[0])\n",
    "    n = len(a)\n",
    "    m = len(a[0])\n",
    "    global FLOPS_ADD\n",
    "    FLOPS_ADD += n * m\n",
    "    return [[a[i][j] + b[i][j] for j in range(m)] for i in range(n)]"
   ]
  },
  {
   "cell_type": "code",
   "execution_count": 19,
   "metadata": {},
   "outputs": [],
   "source": [
    "def binet_mul(a: Mat, b: Mat) -> Mat:\n",
    "    assert len(a) == len(a[0]) == len(b) == len(b[0])\n",
    "    n = len(a)\n",
    "\n",
    "    if n == 1:\n",
    "        # base case scalar multiplication\n",
    "        global FLOPS_MUL\n",
    "        FLOPS_MUL += 1\n",
    "        return [[a[0][0] * b[0][0]]]\n",
    "    else:\n",
    "        assert n % 2 == 0\n",
    "        # block size\n",
    "        m = n // 2\n",
    "        \n",
    "        # input blocks\n",
    "        a11 = mat_slice(a, 0, m, 0, m)\n",
    "        a12 = mat_slice(a, 0, m, m, n)\n",
    "        a21 = mat_slice(a, m, n, 0, m)\n",
    "        a22 = mat_slice(a, m, n, m, n)\n",
    "\n",
    "        b11 = mat_slice(b, 0, m, 0, m)\n",
    "        b12 = mat_slice(b, 0, m, m, n)\n",
    "        b21 = mat_slice(b, m, n, 0, m)\n",
    "        b22 = mat_slice(b, m, n, m, n)\n",
    "\n",
    "        # recursive calls\n",
    "        c11 = mat_add(binet_mul(a11, b11), binet_mul(a12, b21))\n",
    "        c12 = mat_add(binet_mul(a11, b12), binet_mul(a12, b22))\n",
    "        c21 = mat_add(binet_mul(a21, b11), binet_mul(a22, b21))\n",
    "        c22 = mat_add(binet_mul(a21, b12), binet_mul(a22, b22))\n",
    "\n",
    "        # combine blocks\n",
    "        c = mat_zeros(n, n)\n",
    "        for i in range(m):\n",
    "            for j in range(m):\n",
    "                c[i][j] = c11[i][j]\n",
    "                c[i][j + m] = c12[i][j]\n",
    "                c[i + m][j] = c21[i][j]\n",
    "                c[i + m][j + m] = c22[i][j]\n",
    "\n",
    "        return c"
   ]
  },
  {
   "cell_type": "code",
   "execution_count": 20,
   "metadata": {},
   "outputs": [
    {
     "name": "stdout",
     "output_type": "stream",
     "text": [
      "OK\n"
     ]
    }
   ],
   "source": [
    "def test_mat_mul(ns):\n",
    "    import numpy as np\n",
    "\n",
    "    for n in ns:\n",
    "        a = mat_rand(n, n, -1, 1)\n",
    "        b = mat_rand(n, n, -1, 1)\n",
    "        c = binet_mul(a, b)\n",
    "        d = np.matmul(a, b)\n",
    "        assert np.allclose(c, d)\n",
    "\n",
    "test_mat_mul([1, 2, 4, 8, 16, 32, 64])\n",
    "print('OK')"
   ]
  },
  {
   "cell_type": "code",
   "execution_count": 21,
   "metadata": {},
   "outputs": [
    {
     "name": "stdout",
     "output_type": "stream",
     "text": [
      "FLOPS\tADD\tMUL\n",
      "64512\t31744\t32768\n"
     ]
    }
   ],
   "source": [
    "count_flops()\n",
    "a = mat_rand(32, 32, -1, 1)\n",
    "b = mat_rand(32, 32, -1, 1)\n",
    "c = binet_mul(a, b)\n",
    "flops, add, mul = get_flops()\n",
    "\n",
    "print('FLOPS', 'ADD', 'MUL', sep='\\t')\n",
    "print(flops, add, mul, sep='\\t')"
   ]
  },
  {
   "cell_type": "code",
   "execution_count": 22,
   "metadata": {},
   "outputs": [
    {
     "name": "stderr",
     "output_type": "stream",
     "text": [
      "100%|██████████| 7/7 [00:19<00:00,  2.83s/it]\n"
     ]
    }
   ],
   "source": [
    "from tqdm import tqdm\n",
    "from timeit import timeit\n",
    "import numpy as np\n",
    "import pandas as pd\n",
    "\n",
    "ns = [2**i for i in range(2, 9)]\n",
    "times1 = []\n",
    "times2 = []\n",
    "flops1 = []\n",
    "\n",
    "for n in tqdm(ns):\n",
    "    a = mat_rand(n, n, -1, 1)\n",
    "    b = mat_rand(n, n, -1, 1)\n",
    "    \n",
    "    count_flops()\n",
    "    t1 = timeit(lambda: binet_mul(a, b), number=1)\n",
    "    f1, _, _ = get_flops()\n",
    "    \n",
    "    t2 = timeit(lambda: np.matmul(a, b), number=100) / 100\n",
    "\n",
    "    times1.append(t1)\n",
    "    times2.append(t2)\n",
    "    flops1.append(f1)"
   ]
  },
  {
   "cell_type": "code",
   "execution_count": 23,
   "metadata": {},
   "outputs": [
    {
     "data": {
      "text/html": [
       "<div>\n",
       "<style scoped>\n",
       "    .dataframe tbody tr th:only-of-type {\n",
       "        vertical-align: middle;\n",
       "    }\n",
       "\n",
       "    .dataframe tbody tr th {\n",
       "        vertical-align: top;\n",
       "    }\n",
       "\n",
       "    .dataframe thead th {\n",
       "        text-align: right;\n",
       "    }\n",
       "</style>\n",
       "<table border=\"1\" class=\"dataframe\">\n",
       "  <thead>\n",
       "    <tr style=\"text-align: right;\">\n",
       "      <th></th>\n",
       "      <th>n</th>\n",
       "      <th>time_binet</th>\n",
       "      <th>time_np</th>\n",
       "      <th>flops_binet</th>\n",
       "    </tr>\n",
       "  </thead>\n",
       "  <tbody>\n",
       "    <tr>\n",
       "      <th>0</th>\n",
       "      <td>4</td>\n",
       "      <td>0.000082</td>\n",
       "      <td>0.000004</td>\n",
       "      <td>112</td>\n",
       "    </tr>\n",
       "    <tr>\n",
       "      <th>1</th>\n",
       "      <td>8</td>\n",
       "      <td>0.000554</td>\n",
       "      <td>0.000008</td>\n",
       "      <td>960</td>\n",
       "    </tr>\n",
       "    <tr>\n",
       "      <th>2</th>\n",
       "      <td>16</td>\n",
       "      <td>0.004370</td>\n",
       "      <td>0.000023</td>\n",
       "      <td>7936</td>\n",
       "    </tr>\n",
       "    <tr>\n",
       "      <th>3</th>\n",
       "      <td>32</td>\n",
       "      <td>0.032949</td>\n",
       "      <td>0.000077</td>\n",
       "      <td>64512</td>\n",
       "    </tr>\n",
       "    <tr>\n",
       "      <th>4</th>\n",
       "      <td>64</td>\n",
       "      <td>0.258673</td>\n",
       "      <td>0.000281</td>\n",
       "      <td>520192</td>\n",
       "    </tr>\n",
       "  </tbody>\n",
       "</table>\n",
       "</div>"
      ],
      "text/plain": [
       "    n  time_binet   time_np  flops_binet\n",
       "0   4    0.000082  0.000004          112\n",
       "1   8    0.000554  0.000008          960\n",
       "2  16    0.004370  0.000023         7936\n",
       "3  32    0.032949  0.000077        64512\n",
       "4  64    0.258673  0.000281       520192"
      ]
     },
     "execution_count": 23,
     "metadata": {},
     "output_type": "execute_result"
    }
   ],
   "source": [
    "df = pd.DataFrame({'n': ns, 'time_binet': times1, 'time_np': times2, 'flops_binet': flops1})\n",
    "df.to_csv('binet.csv', index=False)\n",
    "df.head()"
   ]
  }
 ],
 "metadata": {
  "kernelspec": {
   "display_name": "Python 3.11.0 ('algomat')",
   "language": "python",
   "name": "python3"
  },
  "language_info": {
   "codemirror_mode": {
    "name": "ipython",
    "version": 3
   },
   "file_extension": ".py",
   "mimetype": "text/x-python",
   "name": "python",
   "nbconvert_exporter": "python",
   "pygments_lexer": "ipython3",
   "version": "3.11.0"
  },
  "orig_nbformat": 4,
  "vscode": {
   "interpreter": {
    "hash": "a40be5d13c9a58f733e2ed96c2992ee39e221de25dbd7199b1d982cff44c2978"
   }
  }
 },
 "nbformat": 4,
 "nbformat_minor": 2
}
